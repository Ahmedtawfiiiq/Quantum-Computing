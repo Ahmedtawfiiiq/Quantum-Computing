{
 "cells": [
  {
   "cell_type": "code",
   "execution_count": 1,
   "metadata": {},
   "outputs": [],
   "source": [
    "from qiskit.circuit import QuantumCircuit\n",
    "from qiskit.circuit.library import PhaseEstimation, U1Gate\n",
    "from pennylane import numpy as np\n",
    "import pennylane as qml\n",
    "from qiskit.compiler import transpile\n",
    "from qiskit_aer import AerSimulator"
   ]
  },
  {
   "cell_type": "code",
   "execution_count": 2,
   "metadata": {},
   "outputs": [],
   "source": [
    "def qiskit_circuit(theta, ancilla):\n",
    "    u = U1Gate(2 * np.pi * theta)\n",
    "    qc = QuantumCircuit(ancilla + 1, ancilla)\n",
    "    # possible states for qubit at last index\n",
    "    # |1> and -|1> which are the eigenstates of U at eigenvalue e^{2*pi*i*theta}\n",
    "    qc.x(ancilla)  # must be an eigenstate of Unitary matrix U\n",
    "    # qc.z(ancilla)\n",
    "    pe = PhaseEstimation(ancilla, unitary=u)\n",
    "    qc.compose(pe, qubits=list(range(ancilla + 1)), inplace=True)\n",
    "    return qc"
   ]
  },
  {
   "cell_type": "code",
   "execution_count": 3,
   "metadata": {},
   "outputs": [],
   "source": [
    "ancilla = 6\n",
    "dev = qml.device(\"default.qubit\", wires=ancilla + 1)"
   ]
  },
  {
   "cell_type": "code",
   "execution_count": 6,
   "metadata": {},
   "outputs": [
    {
     "name": "stdout",
     "output_type": "stream",
     "text": [
      "Highest probability outcome: 10101\n",
      "Estimated phase: 0.328125\n"
     ]
    }
   ],
   "source": [
    "theta = 1 / 3\n",
    "\n",
    "simulator = AerSimulator()\n",
    "qc = qiskit_circuit(theta, ancilla)\n",
    "isa_circuit = transpile(qc, simulator)\n",
    "pl_func = qml.from_qiskit(isa_circuit)\n",
    "\n",
    "\n",
    "@qml.qnode(dev)\n",
    "def circuit():\n",
    "    pl_func()\n",
    "    return qml.probs(wires=range(ancilla))\n",
    "\n",
    "\n",
    "probabilties = circuit()\n",
    "outcome = np.argmax(probabilties)\n",
    "print(f\"Highest probability outcome: {bin(outcome)[2:]}\")\n",
    "estimated_phase = outcome / 2**ancilla\n",
    "print(f\"Estimated phase: {estimated_phase}\")"
   ]
  }
 ],
 "metadata": {
  "kernelspec": {
   "display_name": "Python 3",
   "language": "python",
   "name": "python3"
  },
  "language_info": {
   "codemirror_mode": {
    "name": "ipython",
    "version": 3
   },
   "file_extension": ".py",
   "mimetype": "text/x-python",
   "name": "python",
   "nbconvert_exporter": "python",
   "pygments_lexer": "ipython3",
   "version": "3.10.12"
  }
 },
 "nbformat": 4,
 "nbformat_minor": 2
}
