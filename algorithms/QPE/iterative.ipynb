{
 "cells": [
  {
   "cell_type": "code",
   "execution_count": 19,
   "metadata": {},
   "outputs": [],
   "source": [
    "from qiskit.circuit.library import U1Gate\n",
    "from qiskit import QuantumCircuit, QuantumRegister, ClassicalRegister\n",
    "import numpy as np\n",
    "from qiskit_aer import AerSimulator\n",
    "from qiskit.compiler import transpile\n",
    "import operator\n",
    "from qiskit.visualization import plot_histogram\n",
    "\n",
    "\n",
    "theta = 1 / 10\n",
    "u = U1Gate(2 * np.pi * theta).control(1)\n",
    "\n",
    "k = 10\n",
    "qreg = QuantumRegister(2)\n",
    "creg = ClassicalRegister(k)\n",
    "qc = QuantumCircuit(qreg, creg)\n",
    "# possible states for qubit at last index\n",
    "# |1> and -|1> which are the eigenstates of U at eigenvalue e^{2*pi*i*theta}\n",
    "# must be an eigenstate of Unitary matrix U\n",
    "qc.x(1)\n",
    "\n",
    "simulator = AerSimulator()\n",
    "for i in range(k):\n",
    "    qc.reset(0)\n",
    "    qc.h(0)\n",
    "    for j in range(k - i):\n",
    "        qc.compose(u, [0, 1], inplace=True)\n",
    "    if i != 0:\n",
    "        for j in range(i):\n",
    "            current_bit = int(theta_bits[j])\n",
    "            qc.rx(-2 * np.pi * current_bit / 2 ** (i + 1 - j), 0).c_if(creg[j], 1)\n",
    "    qc.h(0)\n",
    "    qc.measure(0, i)\n",
    "    isa_circuit = transpile(qc, simulator)\n",
    "    counts = simulator.run(isa_circuit, shots=1024).result().get_counts()\n",
    "    theta_bits = max(counts.items(), key=operator.itemgetter(1))[0]\n",
    "# qc.draw(output=\"mpl\")"
   ]
  },
  {
   "cell_type": "code",
   "execution_count": 20,
   "metadata": {},
   "outputs": [],
   "source": [
    "# plot_histogram(counts, figsize=(20, 5))"
   ]
  },
  {
   "cell_type": "code",
   "execution_count": 21,
   "metadata": {},
   "outputs": [
    {
     "name": "stdout",
     "output_type": "stream",
     "text": [
      "Highest probability outcome: 0001111100\n",
      "Using 10 iterations with theta = 0.100, estimated theta = 0.121.\n"
     ]
    }
   ],
   "source": [
    "# phase estimation\n",
    "highest_probability_outcome = max(counts.items(), key=operator.itemgetter(1))[0][::-1]\n",
    "print(\"Highest probability outcome:\", highest_probability_outcome)\n",
    "measured_theta = int(highest_probability_outcome, 2) / 2**k\n",
    "print(\n",
    "    \"Using %d iterations with theta = %.3f, estimated theta = %.3f.\"\n",
    "    % (k, theta, measured_theta)\n",
    ")"
   ]
  }
 ],
 "metadata": {
  "kernelspec": {
   "display_name": "Python 3",
   "language": "python",
   "name": "python3"
  },
  "language_info": {
   "codemirror_mode": {
    "name": "ipython",
    "version": 3
   },
   "file_extension": ".py",
   "mimetype": "text/x-python",
   "name": "python",
   "nbconvert_exporter": "python",
   "pygments_lexer": "ipython3",
   "version": "3.10.12"
  }
 },
 "nbformat": 4,
 "nbformat_minor": 2
}
