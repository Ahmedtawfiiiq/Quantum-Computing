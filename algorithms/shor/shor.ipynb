{
 "cells": [
  {
   "cell_type": "code",
   "execution_count": 18,
   "metadata": {},
   "outputs": [],
   "source": [
    "from qiskit import QuantumCircuit, QuantumRegister, ClassicalRegister\n",
    "from qiskit.circuit.library import QFT\n",
    "from qiskit_aer import AerSimulator\n",
    "from qiskit.compiler import transpile\n",
    "import operator\n",
    "from qiskit.visualization import plot_histogram\n",
    "from fractions import Fraction\n",
    "from math import gcd"
   ]
  },
  {
   "cell_type": "code",
   "execution_count": 19,
   "metadata": {},
   "outputs": [],
   "source": [
    "from qiskit import QuantumCircuit\n",
    "\n",
    "\n",
    "def c_amod15(a, power):\n",
    "    \"\"\"Controlled multiplication by a mod 15\"\"\"\n",
    "    if a not in [2, 4, 7, 8, 11, 13]:\n",
    "        raise ValueError(\"'a' must be 2,4,7,8,11 or 13\")\n",
    "    U = QuantumCircuit(4)\n",
    "    for _ in range(power):\n",
    "        if a in [2, 13]:\n",
    "            U.swap(2, 3)\n",
    "            U.swap(1, 2)\n",
    "            U.swap(0, 1)\n",
    "        if a in [7, 8]:\n",
    "            U.swap(0, 1)\n",
    "            U.swap(1, 2)\n",
    "            U.swap(2, 3)\n",
    "        if a in [4, 11]:\n",
    "            U.swap(1, 3)\n",
    "            U.swap(0, 2)\n",
    "        if a in [7, 11, 13]:\n",
    "            for q in range(4):\n",
    "                U.x(q)\n",
    "    U = U.to_gate()\n",
    "    U.name = f\"{a}^{power} mod 15\"\n",
    "    c_U = U.control()\n",
    "    return c_U"
   ]
  },
  {
   "cell_type": "code",
   "execution_count": 20,
   "metadata": {},
   "outputs": [
    {
     "name": "stdout",
     "output_type": "stream",
     "text": [
      "ATTEMPT 1:\n",
      "Factors: [3]\n"
     ]
    }
   ],
   "source": [
    "def order_finding(N, a):\n",
    "\n",
    "    n = len(bin(N)[2:])\n",
    "    ancilla = 2 * n\n",
    "    qr = QuantumRegister(n + ancilla)\n",
    "    cr = ClassicalRegister(ancilla)\n",
    "    qc = QuantumCircuit(qr, cr)\n",
    "\n",
    "    qc.h(qr[:ancilla])\n",
    "    qc.x(qr[ancilla])\n",
    "    for q in range(ancilla):\n",
    "        qc.compose(\n",
    "            c_amod15(a, 2**q), [q] + [i + ancilla for i in range(n)], inplace=True\n",
    "        )\n",
    "    qc.compose(QFT(ancilla, inverse=True), range(ancilla), inplace=True)\n",
    "\n",
    "    qc.measure(qr[:ancilla], cr)\n",
    "\n",
    "    # display(qc.draw(\"mpl\", fold=-1))\n",
    "\n",
    "    simulator = AerSimulator()\n",
    "    isa_circuit = transpile(qc, simulator)\n",
    "    result = simulator.run(isa_circuit).result()\n",
    "    counts = result.get_counts()\n",
    "\n",
    "    # display(plot_histogram(counts))\n",
    "\n",
    "    highest_probability_outcome = max(counts.items(), key=operator.itemgetter(1))[0]\n",
    "    phase = int(highest_probability_outcome, 2) / 2**ancilla  # theta = s / r\n",
    "    frac = Fraction(phase).limit_denominator(N)\n",
    "    r = frac.denominator\n",
    "    return phase, r\n",
    "\n",
    "\n",
    "a = 7\n",
    "N = 15\n",
    "\n",
    "FACTOR_FOUND = False\n",
    "ATTEMPT = 0\n",
    "while True:\n",
    "    ATTEMPT += 1\n",
    "    print(f\"ATTEMPT {ATTEMPT}:\")\n",
    "    phase, r = order_finding(N, a)\n",
    "    if phase != 0:\n",
    "        x = (a ** (r // 2)) % N\n",
    "        guesses = [gcd(x - 1, N), gcd(x + 1, N)]\n",
    "        factors = []\n",
    "        for guess in guesses:\n",
    "            if guess not in [1, N] and (N % guess) == 0:\n",
    "                factors.append(guess)\n",
    "                FACTOR_FOUND = True\n",
    "        if FACTOR_FOUND:\n",
    "            print(f\"Factors: {factors}\")\n",
    "            break"
   ]
  }
 ],
 "metadata": {
  "kernelspec": {
   "display_name": "Python 3",
   "language": "python",
   "name": "python3"
  },
  "language_info": {
   "codemirror_mode": {
    "name": "ipython",
    "version": 3
   },
   "file_extension": ".py",
   "mimetype": "text/x-python",
   "name": "python",
   "nbconvert_exporter": "python",
   "pygments_lexer": "ipython3",
   "version": "3.10.12"
  }
 },
 "nbformat": 4,
 "nbformat_minor": 2
}
