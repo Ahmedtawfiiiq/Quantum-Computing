{
 "cells": [
  {
   "cell_type": "code",
   "execution_count": null,
   "metadata": {},
   "outputs": [],
   "source": [
    "# modular exponentiation: a^m = 1 mode n\n",
    "# if a and n are coprime, then there is at least one integer m that satisfies that equation where m = phi(n)\n",
    "# where phi(n) is the Euler's totient function\n",
    "\n",
    "# order finding problem:\n",
    "# find the smallest positive integer r such that a^r = 1 mod n\n",
    "# r is called the order of a modulo n\n",
    "# if a and n are coprime, then the order of a modulo n divides phi(n)\n",
    "# phi(n) % r = 0\n",
    "\n",
    "# this method succeeds in finding a factor of N with probability at least 1/2\n",
    "# providing N is odd and not a prime power\n",
    "\n",
    "# the only pair of 3-bit numbers that satisfy the order finding problem is (a=5, N=6)"
   ]
  },
  {
   "cell_type": "code",
   "execution_count": 1,
   "metadata": {},
   "outputs": [],
   "source": [
    "from qiskit import QuantumRegister, ClassicalRegister, QuantumCircuit\n",
    "from qiskit.circuit.library import QFT\n",
    "from qiskit.compiler import transpile\n",
    "from qiskit_aer import AerSimulator\n",
    "from qiskit.visualization import plot_distribution\n",
    "from fractions import Fraction\n",
    "from copy import deepcopy\n",
    "import numpy as np"
   ]
  },
  {
   "cell_type": "code",
   "execution_count": 2,
   "metadata": {},
   "outputs": [],
   "source": [
    "def carry():\n",
    "    qc = QuantumCircuit(4, name=\"carry\")\n",
    "    qc.ccx(1, 2, 3)\n",
    "    qc.cx(1, 2)\n",
    "    qc.ccx(0, 2, 3)\n",
    "    return qc.to_gate()"
   ]
  },
  {
   "cell_type": "code",
   "execution_count": 3,
   "metadata": {},
   "outputs": [],
   "source": [
    "def sum():\n",
    "    qc = QuantumCircuit(3, name=\"sum\")\n",
    "    qc.cx(1, 2)\n",
    "    qc.cx(0, 2)\n",
    "    return qc.to_gate()"
   ]
  },
  {
   "cell_type": "code",
   "execution_count": 4,
   "metadata": {},
   "outputs": [],
   "source": [
    "def adder(n):\n",
    "\n",
    "    qc = QuantumCircuit(3 * n + 1, name=\"adder\")\n",
    "\n",
    "    sc = 0\n",
    "    for i in range(n - 1):\n",
    "        qc.append(carry(), list(range(sc, sc + 4)))\n",
    "        sc += 3\n",
    "\n",
    "    qc.append(carry(), list(range(sc, sc + 4)))\n",
    "\n",
    "    for i in range(n):\n",
    "        if i == 0:\n",
    "            qc.cx(sc + 1, sc + 2)\n",
    "        qc.append(sum(), list(range(sc, sc + 3)))\n",
    "        sc -= 3\n",
    "        if sc < 0:\n",
    "            break\n",
    "        qc.append(carry().inverse(), list(range(sc, sc + 4)))\n",
    "\n",
    "    return qc.to_gate()"
   ]
  },
  {
   "cell_type": "code",
   "execution_count": 5,
   "metadata": {},
   "outputs": [],
   "source": [
    "def adder_mod(indices):\n",
    "\n",
    "    # 0 <= a, b < N\n",
    "\n",
    "    c, a, b, N1, N2, t = indices\n",
    "    n = len(a)\n",
    "    qubits = 6 * n + 2\n",
    "\n",
    "    qc = QuantumCircuit(qubits, name=\"adder_mod\")\n",
    "\n",
    "    # adder\n",
    "    lines = []\n",
    "    for i in range(n):\n",
    "        lines.append(c[i])\n",
    "        lines.append(a[i])\n",
    "        lines.append(b[i])\n",
    "    lines.append(c[-1])\n",
    "    qc.append(adder(n), lines)\n",
    "\n",
    "    # subtractor\n",
    "    lines = []\n",
    "    for i in range(n):\n",
    "        lines.append(c[i])\n",
    "        lines.append(N1[i])\n",
    "        lines.append(b[i])\n",
    "    lines.append(c[-1])\n",
    "    qc.append(adder(n).inverse(), lines)\n",
    "\n",
    "    # check overflow\n",
    "    qc.x(c[-1])\n",
    "    qc.cx(c[-1], t[0])\n",
    "    qc.x(c[-1])\n",
    "\n",
    "    # reset N1 to 0 if t is 1\n",
    "    for i in range(n):\n",
    "        qc.ccx(t[0], N2[i], N1[i])\n",
    "\n",
    "    # adder\n",
    "    qc.append(adder(n), lines)\n",
    "\n",
    "    # restore N1 to original value if t is 1\n",
    "    for i in range(n):\n",
    "        qc.ccx(t[0], N2[i], N1[i])\n",
    "\n",
    "    # subtractor\n",
    "    lines = []\n",
    "    for i in range(n):\n",
    "        lines.append(c[i])\n",
    "        lines.append(a[i])\n",
    "        lines.append(b[i])\n",
    "    lines.append(c[-1])\n",
    "    qc.append(adder(n).inverse(), lines)\n",
    "\n",
    "    # restore t to 0\n",
    "    qc.cx(c[-1], t[0])\n",
    "\n",
    "    # adder\n",
    "    qc.append(adder(n), lines)\n",
    "\n",
    "    return qc.to_gate()"
   ]
  },
  {
   "cell_type": "code",
   "execution_count": 6,
   "metadata": {},
   "outputs": [],
   "source": [
    "def mult_mod(indices):\n",
    "\n",
    "    c, a, b, N1, N2, t, r, x = indices\n",
    "    n = len(a)\n",
    "    qubits = 6 * n + 3\n",
    "    # qubits = 7 * n + 2\n",
    "\n",
    "    qc = QuantumCircuit(qubits, name=\"mult_mod\")\n",
    "\n",
    "    # default order: (a + b) mod N\n",
    "    default = [c, a, b, N1, N2, t, r]\n",
    "    reg = []\n",
    "    for i in default:\n",
    "        for j in i:\n",
    "            reg.append(j)\n",
    "\n",
    "    # (a + r) mod N\n",
    "    # if x[n - 1] == \"1\":\n",
    "    # order = [c, a, r, N1, N2, t]\n",
    "    # qc.append(adder_mod(order), reg)\n",
    "\n",
    "    order = [c, a, r, N1, N2, t]\n",
    "    U = adder_mod(order).control(1)\n",
    "    qc.append(U, [x[0]] + reg)\n",
    "\n",
    "    # iterations = 1\n",
    "    # for i in range(1, n):\n",
    "    #     for _ in range(iterations):\n",
    "    #         # (a, b) mode N\n",
    "    #         order = [c, a, b, N1, N2, t]\n",
    "    #         U = adder_mod(order)\n",
    "    #         qc.append(U, reg)\n",
    "    #     iterations *= 2\n",
    "    #     # (b + r) mod N\n",
    "    #     if x[n - i - 1] == \"1\":\n",
    "    #         order = [c, b, r, N1, N2, t]\n",
    "    #         # qc.append(adder_mod(order), reg)\n",
    "    #         U = adder_mod(order).control(1)\n",
    "    #         qc.append(U, [x[i]] + reg)\n",
    "\n",
    "    return qc.to_gate()"
   ]
  },
  {
   "cell_type": "code",
   "execution_count": 7,
   "metadata": {},
   "outputs": [],
   "source": [
    "def calculate(\n",
    "    a: str = \"\",\n",
    "    b: str = \"\",\n",
    "    N: str = \"\",\n",
    "    x: str = \"\",\n",
    "    operation: str = \"add\",\n",
    "    ancilla: int = 1,\n",
    "):\n",
    "\n",
    "    if operation not in [\"add\", \"add_mod\", \"mult_mod\", \"factor\"]:\n",
    "        raise ValueError(\"Invalid operation\")\n",
    "\n",
    "    if operation == \"mult_mod\" or operation == \"factor\":\n",
    "        b = deepcopy(a)\n",
    "\n",
    "    n = max(len(a), len(b), len(N))\n",
    "    a = a.zfill(n)\n",
    "    b = b.zfill(n)\n",
    "    N = N.zfill(n)\n",
    "    x = x.zfill(n)\n",
    "\n",
    "    qubits = 6 * n + 3\n",
    "    # qubits = 7 * n + 2\n",
    "\n",
    "    c_qubits = list(range(n + 1))  # n + 1 qubits\n",
    "    a_qubits = list(range(n + 1, 2 * n + 1, 1))  # n qubits\n",
    "    b_qubits = list(range(2 * n + 1, 3 * n + 1, 1))  # n qubits\n",
    "    N1_qubits = list(range(3 * n + 1, 4 * n + 1, 1))  # n qubits\n",
    "    N2_qubits = list(range(4 * n + 1, 5 * n + 1, 1))  # n qubits\n",
    "    t = [5 * n + 1]  # 1 qubit\n",
    "    r_qubits = list(range(5 * n + 2, 6 * n + 2, 1))  # n qubits\n",
    "    x_qubits = [6 * n + 2]\n",
    "    # x_qubits = list(range(6 * n + 2, 7 * n + 2, 1))  # n qubits\n",
    "\n",
    "    if operation == \"factor\":\n",
    "        ancilla_reg = QuantumRegister(ancilla)\n",
    "        qreg = QuantumRegister(qubits)\n",
    "        creg = ClassicalRegister(ancilla)\n",
    "        qc = QuantumCircuit(qreg, ancilla_reg, creg)\n",
    "        qc.h(ancilla_reg)\n",
    "    else:\n",
    "        if operation == \"add\":\n",
    "            creg = ClassicalRegister(n + 1)\n",
    "        else:\n",
    "            creg = ClassicalRegister(n)\n",
    "        qreg = QuantumRegister(qubits)\n",
    "        qc = QuantumCircuit(qreg, creg)\n",
    "\n",
    "    # c\n",
    "    ptr = n + 1\n",
    "\n",
    "    # a1\n",
    "    for i in range(n):\n",
    "        if a[n - i - 1] == \"1\":\n",
    "            qc.x(ptr)\n",
    "        ptr += 1\n",
    "\n",
    "    # b\n",
    "    for i in range(n):\n",
    "        if b[n - i - 1] == \"1\":\n",
    "            qc.x(ptr)\n",
    "        ptr += 1\n",
    "\n",
    "    # N1\n",
    "    for i in range(n):\n",
    "        if N[n - i - 1] == \"1\":\n",
    "            qc.x(ptr)\n",
    "        ptr += 1\n",
    "\n",
    "    # N2\n",
    "    for i in range(n):\n",
    "        if N[n - i - 1] == \"1\":\n",
    "            qc.x(ptr)\n",
    "        ptr += 1\n",
    "\n",
    "    # t\n",
    "    ptr += 1\n",
    "\n",
    "    # a2\n",
    "    ptr += n\n",
    "\n",
    "    # x\n",
    "    if x[n - 1] == \"1\":\n",
    "        qc.x(ptr)\n",
    "    # for i in range(n):\n",
    "    #     if x[n - i - 1] == \"1\":\n",
    "    #         qc.x(ptr)\n",
    "    #     ptr += 1\n",
    "\n",
    "    if operation == \"add\":\n",
    "        lines = []\n",
    "        for i in range(n):\n",
    "            lines.append(c_qubits[i])\n",
    "            lines.append(a_qubits[i])\n",
    "            lines.append(b_qubits[i])\n",
    "        lines.append(c_qubits[-1])\n",
    "        qc.append(adder(n), lines)\n",
    "        qc.measure(b_qubits + [c_qubits[-1]], creg)\n",
    "\n",
    "    if operation == \"add_mod\":\n",
    "        indices = [c_qubits, a_qubits, b_qubits, N1_qubits, N2_qubits, t, r_qubits]\n",
    "        reg = []\n",
    "        for i in indices:\n",
    "            for j in i:\n",
    "                reg.append(j)\n",
    "        qc.append(\n",
    "            adder_mod(\n",
    "                [c_qubits, a_qubits, b_qubits, N1_qubits, N2_qubits, t, r_qubits]\n",
    "            ),\n",
    "            reg,\n",
    "        )\n",
    "        qc.measure(b_qubits, creg)\n",
    "\n",
    "    if operation == \"mult_mod\":\n",
    "        indices = [\n",
    "            c_qubits,\n",
    "            a_qubits,\n",
    "            b_qubits,\n",
    "            N1_qubits,\n",
    "            N2_qubits,\n",
    "            t,\n",
    "            r_qubits,\n",
    "            # x_qubits,\n",
    "        ]\n",
    "        qc.append(mult_mod(x, indices), qreg)\n",
    "        qc.measure(r_qubits, creg)\n",
    "\n",
    "    if operation == \"factor\":\n",
    "        indices = [\n",
    "            c_qubits,\n",
    "            a_qubits,\n",
    "            b_qubits,\n",
    "            N1_qubits,\n",
    "            N2_qubits,\n",
    "            t,\n",
    "            r_qubits,\n",
    "            x_qubits,\n",
    "        ]\n",
    "        U = mult_mod(indices).control(1)\n",
    "        for i in range(ancilla):\n",
    "            for _ in range(2**i):\n",
    "                qc.append(U, [ancilla_reg[i]] + [*qreg])\n",
    "        qc.append(QFT(ancilla).inverse(), ancilla_reg)\n",
    "        qc.measure(ancilla_reg, creg)\n",
    "\n",
    "    return qc"
   ]
  },
  {
   "cell_type": "code",
   "execution_count": 24,
   "metadata": {},
   "outputs": [],
   "source": [
    "# a = \"011\"\n",
    "# b = \"110\"\n",
    "# qc = calculate(a=a, b=b, operation=\"add\")"
   ]
  },
  {
   "cell_type": "code",
   "execution_count": 25,
   "metadata": {},
   "outputs": [],
   "source": [
    "# a = \"011\"\n",
    "# b = \"110\"\n",
    "# N = \"111\"\n",
    "# qc = calculate(a=a, b=b, N=N, operation=\"add_mod\")"
   ]
  },
  {
   "cell_type": "code",
   "execution_count": 26,
   "metadata": {},
   "outputs": [],
   "source": [
    "# a = \"1101\"\n",
    "# x = \"1010\"\n",
    "# N = \"1111\"\n",
    "# qc = calculate(a=a, x=x, N=N, operation=\"mult_mod\")"
   ]
  },
  {
   "cell_type": "code",
   "execution_count": 27,
   "metadata": {},
   "outputs": [],
   "source": [
    "# qc = transpile(qc, AerSimulator(), optimization_level=3)"
   ]
  },
  {
   "cell_type": "code",
   "execution_count": 28,
   "metadata": {},
   "outputs": [],
   "source": [
    "# job = AerSimulator().run(qc, shots=1)\n",
    "# counts = job.result().get_counts(qc)\n",
    "# plot_distribution(counts)"
   ]
  },
  {
   "cell_type": "markdown",
   "metadata": {},
   "source": [
    "### Factorization\n"
   ]
  },
  {
   "cell_type": "code",
   "execution_count": 8,
   "metadata": {},
   "outputs": [],
   "source": [
    "def order_finding(qc, ancilla, N):\n",
    "    simulator = AerSimulator()\n",
    "    isa_circuit = transpile(qc, simulator)\n",
    "    result = simulator.run(isa_circuit).result()\n",
    "    counts = result.get_counts()\n",
    "    highest_probability_outcome = max(counts, key=counts.get)\n",
    "    phase = int(highest_probability_outcome, 2) / 2**ancilla  # theta = s / r\n",
    "    r = Fraction(phase).limit_denominator(N).denominator\n",
    "    return r"
   ]
  },
  {
   "cell_type": "code",
   "execution_count": 9,
   "metadata": {},
   "outputs": [],
   "source": [
    "def factorization(ancilla, N):\n",
    "    Zn = [i for i in range(2, N)]\n",
    "    Zn_star = [i for i in Zn if np.gcd(i, N) == 1]\n",
    "    i = 0\n",
    "    while True:\n",
    "        i += 1\n",
    "        # a = np.random.choice(Zn)\n",
    "        a = np.random.choice(Zn_star)\n",
    "        print(f\"ATTEMPT {i}: a = {a}\")\n",
    "        d = np.gcd(a, N)\n",
    "        if d >= 2:\n",
    "            return d, N // d\n",
    "        qc = calculate(\n",
    "            a=np.binary_repr(a),\n",
    "            x=\"1\",\n",
    "            N=np.binary_repr(N),\n",
    "            operation=\"factor\",\n",
    "            ancilla=ancilla,\n",
    "        )\n",
    "        r = order_finding(qc, ancilla, N)\n",
    "        if r % 2 == 0:\n",
    "            d = np.gcd(a ** (r // 2) - 1, N)\n",
    "            if d >= 2:\n",
    "                print(f\"order of {a} mod {N} is {r}\")\n",
    "                return d, N // d\n",
    "        print(\"FAILED\")"
   ]
  },
  {
   "cell_type": "code",
   "execution_count": 41,
   "metadata": {},
   "outputs": [
    {
     "name": "stdout",
     "output_type": "stream",
     "text": [
      "ATTEMPT 1: a = 3\n",
      "FAILED\n",
      "ATTEMPT 2: a = 3\n",
      "order of 3 mod 4 is 2\n",
      "factors of 4: (2, 2)\n"
     ]
    }
   ],
   "source": [
    "N = 4\n",
    "factors = factorization(ancilla=1, N=N)\n",
    "print(f\"factors of {N}: {factors}\")"
   ]
  },
  {
   "cell_type": "code",
   "execution_count": 40,
   "metadata": {},
   "outputs": [
    {
     "name": "stdout",
     "output_type": "stream",
     "text": [
      "ATTEMPT 1: a = 5\n",
      "FAILED\n",
      "ATTEMPT 2: a = 5\n",
      "FAILED\n",
      "ATTEMPT 3: a = 5\n",
      "order of 5 mod 6 is 2\n",
      "factors of 6: (2, 3)\n"
     ]
    }
   ],
   "source": [
    "N = 6\n",
    "factors = factorization(ancilla=1, N=N)\n",
    "print(f\"factors of {N}: {factors}\")"
   ]
  },
  {
   "cell_type": "code",
   "execution_count": 42,
   "metadata": {},
   "outputs": [
    {
     "name": "stdout",
     "output_type": "stream",
     "text": [
      "ATTEMPT 1: a = 7\n",
      "FAILED\n",
      "ATTEMPT 2: a = 11\n",
      "FAILED\n",
      "ATTEMPT 3: a = 5\n",
      "FAILED\n",
      "ATTEMPT 4: a = 7\n",
      "order of 7 mod 12 is 2\n",
      "factors of 12: (6, 2)\n"
     ]
    }
   ],
   "source": [
    "N = 12\n",
    "factors = factorization(ancilla=1, N=N)\n",
    "print(f\"factors of {N}: {factors}\")"
   ]
  },
  {
   "cell_type": "code",
   "execution_count": 43,
   "metadata": {},
   "outputs": [
    {
     "name": "stdout",
     "output_type": "stream",
     "text": [
      "ATTEMPT 1: a = 11\n",
      "FAILED\n",
      "ATTEMPT 2: a = 4\n",
      "FAILED\n",
      "ATTEMPT 3: a = 7\n",
      "order of 7 mod 15 is 4\n",
      "factors of 15: (3, 5)\n"
     ]
    }
   ],
   "source": [
    "N = 15\n",
    "factors = factorization(ancilla=2, N=N)\n",
    "print(f\"factors of {N}: {factors}\")"
   ]
  },
  {
   "cell_type": "code",
   "execution_count": 35,
   "metadata": {},
   "outputs": [
    {
     "name": "stdout",
     "output_type": "stream",
     "text": [
      "ATTEMPT 1: a = 2\n",
      "order of 2 mod 15 is 4\n",
      "factors of 15: (3, 5)\n"
     ]
    }
   ],
   "source": [
    "N = 15\n",
    "factors = factorization(ancilla=2, N=N)\n",
    "print(f\"factors of {N}: {factors}\")"
   ]
  }
 ],
 "metadata": {
  "kernelspec": {
   "display_name": "Python 3",
   "language": "python",
   "name": "python3"
  },
  "language_info": {
   "codemirror_mode": {
    "name": "ipython",
    "version": 3
   },
   "file_extension": ".py",
   "mimetype": "text/x-python",
   "name": "python",
   "nbconvert_exporter": "python",
   "pygments_lexer": "ipython3",
   "version": "3.10.12"
  }
 },
 "nbformat": 4,
 "nbformat_minor": 2
}
