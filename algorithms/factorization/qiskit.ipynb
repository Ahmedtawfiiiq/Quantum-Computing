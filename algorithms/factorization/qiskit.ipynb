{
 "cells": [
  {
   "cell_type": "code",
   "execution_count": 1,
   "metadata": {},
   "outputs": [],
   "source": [
    "# modular exponentiation: a^m = 1 mode n\n",
    "# if a and n are coprime, then there is at least one integer m that satisfies that equation where m = phi(n)\n",
    "# where phi(n) is the Euler's totient function\n",
    "\n",
    "# order finding problem:\n",
    "# find the smallest positive integer r such that a^r = 1 mod n\n",
    "# r is called the order of a modulo n\n",
    "# if a and n are coprime, then the order of a modulo n divides phi(n)\n",
    "# phi(n) % r = 0"
   ]
  },
  {
   "cell_type": "code",
   "execution_count": 2,
   "metadata": {},
   "outputs": [],
   "source": [
    "from qiskit import QuantumCircuit, QuantumRegister, ClassicalRegister\n",
    "from qiskit.circuit.library import QFT\n",
    "from qiskit_aer import AerSimulator\n",
    "from qiskit.compiler import transpile\n",
    "from fractions import Fraction\n",
    "import numpy as np"
   ]
  },
  {
   "cell_type": "code",
   "execution_count": 3,
   "metadata": {},
   "outputs": [],
   "source": [
    "# i do not understand this part yet\n",
    "# how on earth does this work?\n",
    "# IBM Qiskit textbook says that this is a controlled modular exponentiation\n",
    "\n",
    "\n",
    "# controlled modular exponentiation: a^power mod 15\n",
    "def c_amod15(a, power):\n",
    "    qreg = QuantumRegister(4)\n",
    "    qc = QuantumCircuit(qreg, name=f\"{a}^{power} mod 15\")\n",
    "    for _ in range(power):\n",
    "        if a in [2, 13]:\n",
    "            qc.swap(2, 3)\n",
    "            qc.swap(1, 2)\n",
    "            qc.swap(0, 1)\n",
    "        if a in [7, 8]:\n",
    "            qc.swap(0, 1)\n",
    "            qc.swap(1, 2)\n",
    "            qc.swap(2, 3)\n",
    "        if a in [4, 11]:\n",
    "            qc.swap(1, 3)\n",
    "            qc.swap(0, 2)\n",
    "        if a in [7, 11, 13]:\n",
    "            qc.x(qreg)\n",
    "    return qc.to_gate().control(1)"
   ]
  },
  {
   "cell_type": "code",
   "execution_count": 4,
   "metadata": {},
   "outputs": [],
   "source": [
    "def phase_estimation(a, N):\n",
    "    n = 4\n",
    "    ancilla = 1\n",
    "    aqreg = QuantumRegister(ancilla)\n",
    "    sqreg = QuantumRegister(n)\n",
    "    creg = ClassicalRegister(ancilla)\n",
    "    qc = QuantumCircuit(aqreg, sqreg, creg)\n",
    "\n",
    "    qc.h(aqreg)\n",
    "    qc.x(sqreg[0])\n",
    "    for i in range(ancilla):\n",
    "        qc.append(c_amod15(a, 2**i), [aqreg[i]] + [*sqreg])\n",
    "    qc.append(QFT(ancilla).inverse(), aqreg)\n",
    "\n",
    "    qc.measure(aqreg, creg)\n",
    "\n",
    "    return qc, ancilla"
   ]
  },
  {
   "cell_type": "code",
   "execution_count": 5,
   "metadata": {},
   "outputs": [],
   "source": [
    "def order_finding(qc, ancilla, N):\n",
    "    simulator = AerSimulator()\n",
    "    isa_circuit = transpile(qc, simulator)\n",
    "    result = simulator.run(isa_circuit).result()\n",
    "    counts = result.get_counts()\n",
    "    highest_probability_outcome = max(counts, key=counts.get)\n",
    "    phase = int(highest_probability_outcome, 2) / 2**ancilla  # theta = s / r\n",
    "    r = Fraction(phase).limit_denominator(N).denominator\n",
    "    return r"
   ]
  },
  {
   "cell_type": "code",
   "execution_count": 6,
   "metadata": {},
   "outputs": [],
   "source": [
    "# this method succeeds in finding a factor of N with probability at least 1/2\n",
    "# providing N is odd and not a prime power\n",
    "def factorization():\n",
    "    N = 15\n",
    "    Zn_star = [i for i in range(2, N - 1) if np.gcd(i, N) == 1]\n",
    "    i = 0\n",
    "    while True:\n",
    "        i += 1\n",
    "        a = np.random.choice(Zn_star)\n",
    "        print(f\"ATTEMPT {i}: a = {a}\")\n",
    "        d = np.gcd(a, N)\n",
    "        if d >= 2:\n",
    "            return d, N // d\n",
    "        qc, ancilla = phase_estimation(a, N)\n",
    "        r = order_finding(qc, ancilla, N)\n",
    "        if r % 2 == 0:\n",
    "            d = np.gcd(a ** (r // 2) - 1, N)\n",
    "            if d >= 2:\n",
    "                print(f\"order of {a} mod {N} is {r}\")\n",
    "                return d, N // d\n",
    "        print(\"FAILED\")"
   ]
  },
  {
   "cell_type": "code",
   "execution_count": 7,
   "metadata": {},
   "outputs": [
    {
     "name": "stdout",
     "output_type": "stream",
     "text": [
      "ATTEMPT 1: a = 8\n",
      "FAILED\n",
      "ATTEMPT 2: a = 13\n",
      "order of 13 mod 15 is 2\n",
      "factors of 15: (3, 5)\n"
     ]
    }
   ],
   "source": [
    "factors = factorization()\n",
    "print(f\"factors of {15}: {factors}\")"
   ]
  }
 ],
 "metadata": {
  "kernelspec": {
   "display_name": "Python 3",
   "language": "python",
   "name": "python3"
  },
  "language_info": {
   "codemirror_mode": {
    "name": "ipython",
    "version": 3
   },
   "file_extension": ".py",
   "mimetype": "text/x-python",
   "name": "python",
   "nbconvert_exporter": "python",
   "pygments_lexer": "ipython3",
   "version": "3.10.12"
  }
 },
 "nbformat": 4,
 "nbformat_minor": 2
}
