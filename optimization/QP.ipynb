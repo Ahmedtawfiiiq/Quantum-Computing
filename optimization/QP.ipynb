{
 "cells": [
  {
   "cell_type": "code",
   "execution_count": 1,
   "metadata": {},
   "outputs": [
    {
     "name": "stdout",
     "output_type": "stream",
     "text": [
      "Problem name: test\n",
      "\n",
      "Minimize\n",
      "  3*x1^2 - 4*x1*x2 - 2*x1*x3 + 2*x2^2 - 2*x2*x3 + 5*x3^2\n",
      "\n",
      "Subject to\n",
      "  Linear constraints (2)\n",
      "    3*x1 + 5*x2 + 2*x3 >= 10  'c0'\n",
      "    3*x1 + 5*x3 <= 15  'c1'\n",
      "\n",
      "  Continuous variables (3)\n",
      "    0 <= x1\n",
      "    0 <= x2\n",
      "    0 <= x3\n",
      "\n",
      "fval=0.10905125502080393, x1=0.9814612909979425, x2=1.2322791764290346, x3=0.4471101437824319, status=SUCCESS\n"
     ]
    }
   ],
   "source": [
    "from qiskit_optimization import QuadraticProgram\n",
    "from qiskit_optimization.algorithms import CplexOptimizer\n",
    "\n",
    "mod = QuadraticProgram(\"test\")\n",
    "mod.continuous_var(name=\"x1\", lowerbound=0)\n",
    "mod.continuous_var(name=\"x2\", lowerbound=0)\n",
    "mod.continuous_var(name=\"x3\", lowerbound=0)\n",
    "\n",
    "mod.minimize(\n",
    "    quadratic={\n",
    "        (\"x1\", \"x1\"): 3,\n",
    "        (\"x2\", \"x2\"): 2,\n",
    "        (\"x3\", \"x3\"): 5,\n",
    "        (\"x1\", \"x2\"): -4,\n",
    "        (\"x1\", \"x3\"): -2,\n",
    "        (\"x2\", \"x3\"): -2,\n",
    "    }\n",
    ")\n",
    "\n",
    "mod.linear_constraint(linear={\"x1\": 3, \"x2\": 5, \"x3\": 2}, sense=\">=\", rhs=10)\n",
    "mod.linear_constraint(linear={\"x1\": 3, \"x3\": 5}, sense=\"<=\", rhs=15)\n",
    "\n",
    "print(mod.prettyprint())\n",
    "# solve the problem\n",
    "\n",
    "optimizer = CplexOptimizer()\n",
    "result = optimizer.solve(mod)\n",
    "print(result)"
   ]
  },
  {
   "cell_type": "code",
   "execution_count": 11,
   "metadata": {},
   "outputs": [
    {
     "name": "stdout",
     "output_type": "stream",
     "text": [
      "Problem name: Max-cut\n",
      "\n",
      "Maximize\n",
      "  -2*x_0*x_1 - 2*x_0*x_2 - 2*x_0*x_3 - 2*x_1*x_2 - 2*x_2*x_3 - 2*x_2*x_4\n",
      "  - 2*x_3*x_4 + 3*x_0 + 2*x_1 + 4*x_2 + 3*x_3 + 2*x_4\n",
      "\n",
      "Subject to\n",
      "  No constraints\n",
      "\n",
      "  Binary variables (5)\n",
      "    x_0 x_1 x_2 x_3 x_4\n",
      "\n",
      "energy: -0.9744508289537032\n",
      "time: 21.40344214439392\n",
      "max-cut objective: -4.474450828953703\n",
      "solution: [1 0 1 0 0]\n",
      "solution objective: 5.0\n"
     ]
    }
   ],
   "source": [
    "from qiskit_optimization.applications import Maxcut\n",
    "import numpy as np\n",
    "from qiskit_algorithms.utils import algorithm_globals\n",
    "from qiskit_algorithms.optimizers import SPSA, COBYLA\n",
    "from qiskit.circuit.library import TwoLocal\n",
    "from qiskit_algorithms import SamplingVQE, QAOA\n",
    "from qiskit.primitives import Sampler\n",
    "\n",
    "algorithm_globals.random_seed = 123\n",
    "seed = 10598\n",
    "\n",
    "w = np.array(\n",
    "    [\n",
    "        [0.0, 1.0, 1.0, 1.0, 0.0],\n",
    "        [1.0, 0.0, 1.0, 0.0, 0.0],\n",
    "        [1.0, 1.0, 0.0, 1.0, 1.0],\n",
    "        [1.0, 0.0, 1.0, 0.0, 1.0],\n",
    "        [0.0, 0.0, 1.0, 1.0, 0.0],\n",
    "    ]\n",
    ")\n",
    "\n",
    "max_cut = Maxcut(w)\n",
    "qp = max_cut.to_quadratic_program()\n",
    "qubitOp, offset = qp.to_ising()\n",
    "print(qp.prettyprint())\n",
    "\n",
    "# using SamplingVQE\n",
    "# optimizer = SPSA(maxiter=300)\n",
    "# ry = TwoLocal(qubitOp.num_qubits, \"ry\", \"cz\", reps=5, entanglement=\"linear\")\n",
    "# vqe = SamplingVQE(sampler=Sampler(), ansatz=ry, optimizer=optimizer)\n",
    "\n",
    "# run SamplingVQE\n",
    "# result = vqe.compute_minimum_eigenvalue(qubitOp)\n",
    "\n",
    "# using QAOA\n",
    "optimizer = COBYLA()\n",
    "qaoa = QAOA(sampler=Sampler(), optimizer=optimizer, reps=2)\n",
    "\n",
    "# run QAOA\n",
    "result = qaoa.compute_minimum_eigenvalue(qubitOp)\n",
    "\n",
    "# print results\n",
    "x = max_cut.sample_most_likely(result.eigenstate)\n",
    "\n",
    "print(\"energy:\", result.eigenvalue.real)\n",
    "print(\"time:\", result.optimizer_time)\n",
    "print(\"max-cut objective:\", result.eigenvalue.real + offset)\n",
    "print(\"solution:\", x)\n",
    "print(\"solution objective:\", qp.objective.evaluate(x))"
   ]
  }
 ],
 "metadata": {
  "kernelspec": {
   "display_name": "Python 3",
   "language": "python",
   "name": "python3"
  },
  "language_info": {
   "codemirror_mode": {
    "name": "ipython",
    "version": 3
   },
   "file_extension": ".py",
   "mimetype": "text/x-python",
   "name": "python",
   "nbconvert_exporter": "python",
   "pygments_lexer": "ipython3",
   "version": "3.10.12"
  }
 },
 "nbformat": 4,
 "nbformat_minor": 2
}
