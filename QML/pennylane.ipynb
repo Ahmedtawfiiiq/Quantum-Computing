{
 "cells": [
  {
   "cell_type": "code",
   "execution_count": 3,
   "metadata": {},
   "outputs": [],
   "source": [
    "import pennylane as qml\n",
    "from pennylane import numpy as np\n",
    "from qiskit.circuit import QuantumCircuit\n",
    "from qiskit.quantum_info import Statevector\n",
    "import matplotlib.pyplot as plt"
   ]
  },
  {
   "cell_type": "code",
   "execution_count": 7,
   "metadata": {},
   "outputs": [],
   "source": [
    "dev = qml.device(\"default.qubit\", wires=2)\n",
    "\n",
    "\n",
    "@qml.qnode(dev)\n",
    "def circuit(theta):\n",
    "    qml.PauliX(wires=1)\n",
    "    qml.CNOT(wires=[1, 0])\n",
    "    qml.RY(theta, wires=0)\n",
    "    # return qml.state()\n",
    "    return [qml.expval(qml.PauliZ(wires=i)) for i in range(2)]"
   ]
  },
  {
   "cell_type": "code",
   "execution_count": 6,
   "metadata": {},
   "outputs": [
    {
     "data": {
      "text/latex": [
       "$$- |01\\rangle$$"
      ],
      "text/plain": [
       "<IPython.core.display.Latex object>"
      ]
     },
     "execution_count": 6,
     "metadata": {},
     "output_type": "execute_result"
    }
   ],
   "source": [
    "sv = Statevector(circuit(np.pi))\n",
    "sv.draw(\"latex\")"
   ]
  },
  {
   "cell_type": "code",
   "execution_count": 10,
   "metadata": {},
   "outputs": [
    {
     "name": "stdout",
     "output_type": "stream",
     "text": [
      "0: ────╭X──RY(3.14)─┤  <Z>\n",
      "1: ──X─╰●───────────┤  <Z>\n"
     ]
    }
   ],
   "source": [
    "# display(dev._circuit.draw(output=\"mpl\"))\n",
    "drawer = qml.draw(circuit)\n",
    "print(drawer(np.pi))"
   ]
  },
  {
   "cell_type": "code",
   "execution_count": 11,
   "metadata": {},
   "outputs": [
    {
     "name": "stdout",
     "output_type": "stream",
     "text": [
      "wire 0: 1.00, wire 1: -1.00\n"
     ]
    }
   ],
   "source": [
    "results = []\n",
    "for result in circuit(np.pi):\n",
    "    results.append(result)\n",
    "print(f\"wire 0: {results[0]:.2f}, wire 1: {results[1]:.2f}\")"
   ]
  },
  {
   "cell_type": "code",
   "execution_count": 12,
   "metadata": {},
   "outputs": [],
   "source": [
    "def qiskit_circuit(theta):\n",
    "    qc = QuantumCircuit(2)\n",
    "    qc.x(1)\n",
    "    qc.cx(1, 0)\n",
    "    qc.ry(theta, 0)\n",
    "    return qc"
   ]
  },
  {
   "cell_type": "code",
   "execution_count": 13,
   "metadata": {},
   "outputs": [
    {
     "data": {
      "image/png": "[encoded data removed]",
      "text/plain": [
       "<Figure size 600x300 with 1 Axes>"
      ]
     },
     "metadata": {},
     "output_type": "display_data"
    },
    {
     "data": {
      "text/plain": [
       "None"
      ]
     },
     "metadata": {},
     "output_type": "display_data"
    },
    {
     "name": "stdout",
     "output_type": "stream",
     "text": [
      "wire 0: 1.00, wire 1: -1.00\n"
     ]
    }
   ],
   "source": [
    "qc = qiskit_circuit(np.pi)\n",
    "\n",
    "pl_func = qml.from_qiskit(qc)\n",
    "qml.draw_mpl(pl_func, style=\"pennylane\")()\n",
    "display(plt.show())\n",
    "\n",
    "# compute expected value of PauliZ operator for pl_func\n",
    "dev = qml.device(\"default.qubit\", wires=2)\n",
    "@qml.qnode(dev)\n",
    "def circuit():\n",
    "    pl_func()\n",
    "    return [qml.expval(qml.PauliZ(wires=i)) for i in range(2)]\n",
    "\n",
    "results = []\n",
    "for result in circuit():\n",
    "    results.append(result)\n",
    "print(f\"wire 0: {results[0]:.2f}, wire 1: {results[1]:.2f}\")"
   ]
  }
 ],
 "metadata": {
  "kernelspec": {
   "display_name": "Python 3",
   "language": "python",
   "name": "python3"
  },
  "language_info": {
   "codemirror_mode": {
    "name": "ipython",
    "version": 3
   },
   "file_extension": ".py",
   "mimetype": "text/x-python",
   "name": "python",
   "nbconvert_exporter": "python",
   "pygments_lexer": "ipython3",
   "version": "3.10.12"
  }
 },
 "nbformat": 4,
 "nbformat_minor": 2
}
