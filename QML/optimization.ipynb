{
 "cells": [
  {
   "cell_type": "code",
   "execution_count": 1,
   "metadata": {},
   "outputs": [],
   "source": [
    "import pennylane as qml\n",
    "from pennylane import numpy as np"
   ]
  },
  {
   "cell_type": "code",
   "execution_count": 2,
   "metadata": {},
   "outputs": [],
   "source": [
    "dev = qml.device(\"default.qubit\", wires=3)\n",
    "\n",
    "\n",
    "@qml.qnode(dev)\n",
    "def circuit(theta):\n",
    "    for i in range(3):\n",
    "        qml.RX(theta[i], wires=i)\n",
    "    qml.CNOT(wires=[0, 1])\n",
    "    qml.CNOT(wires=[1, 2])\n",
    "    qml.CNOT(wires=[2, 0])\n",
    "    return qml.expval(qml.PauliZ(0))"
   ]
  },
  {
   "cell_type": "code",
   "execution_count": 3,
   "metadata": {},
   "outputs": [
    {
     "data": {
      "text/plain": [
       "tensor([-1.02016677,  1.09792664, -0.04902824], requires_grad=True)"
      ]
     },
     "execution_count": 3,
     "metadata": {},
     "output_type": "execute_result"
    }
   ],
   "source": [
    "np.random.randn(3)"
   ]
  },
  {
   "cell_type": "code",
   "execution_count": 20,
   "metadata": {},
   "outputs": [
    {
     "name": "stdout",
     "output_type": "stream",
     "text": [
      "Initial thetas:  [1. 1. 0.] 3\n",
      "Initial cost:  0.666\n",
      "Step 0 Theta:  [0.51  0.773 0.375]\n",
      "Cost:  0.666\n",
      "Step 5 Theta:  [0.51  2.288 0.511]\n",
      "Cost:  -0.574\n",
      "Step 10 Theta:  [0.51  3.054 0.061]\n",
      "Cost:  -0.994\n",
      "Step 15 Theta:  [0.51  3.135 0.005]\n",
      "Cost:  -1.0\n"
     ]
    }
   ],
   "source": [
    "thetas = np.random.random((3,))\n",
    "grad = qml.grad(circuit, argnum=0)\n",
    "opt = qml.GradientDescentOptimizer(stepsize=0.4)\n",
    "print(\"Initial thetas: \", np.round(thetas), 3)\n",
    "print(\"Initial cost: \", np.round(circuit(thetas), 3))\n",
    "for i in range(15 + 1):\n",
    "    if i % 5 == 0:\n",
    "        print(\"Step\", i, \"Theta: \", np.round(thetas, 3))\n",
    "        print(\"Cost: \", np.round(circuit(thetas), 3))\n",
    "    thetas = opt.step(circuit, thetas)"
   ]
  }
 ],
 "metadata": {
  "kernelspec": {
   "display_name": "Python 3",
   "language": "python",
   "name": "python3"
  },
  "language_info": {
   "codemirror_mode": {
    "name": "ipython",
    "version": 3
   },
   "file_extension": ".py",
   "mimetype": "text/x-python",
   "name": "python",
   "nbconvert_exporter": "python",
   "pygments_lexer": "ipython3",
   "version": "3.10.12"
  }
 },
 "nbformat": 4,
 "nbformat_minor": 2
}
