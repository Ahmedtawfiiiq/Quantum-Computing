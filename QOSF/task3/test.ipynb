{
 "cells": [
  {
   "cell_type": "code",
   "execution_count": 1,
   "metadata": {},
   "outputs": [],
   "source": [
    "# Bin packing problem\n",
    "# There are n items to be packed in U bins of size B.\n",
    "# The sizes 0 ≤ si ≤ B of individual items are assumed to be known.\n",
    "# The problem is to determine how to pack these n items in bins of size B,\n",
    "# so that the number of required bins is minimum.\n",
    "# xij indicates whether an item is packed in a given bin\n",
    "# yj specifies if a bin is used in the solution or not\n",
    "\n",
    "# a possible interger linear programming formulation of the problem\n",
    "# min: sum(yj) for j in range(U)\n",
    "# subject to:\n",
    "#     sum(xij) = 1 for j in range(U) for i in range(n)\n",
    "#     sum(si * xij) <= Byj for i in range(n) for j in range(U)\n",
    "#     xij belongs to {0, 1} for i in range(n) and j in range(U)\n",
    "#     yi belongs to {0, 1} for j in range(U)"
   ]
  },
  {
   "cell_type": "code",
   "execution_count": 2,
   "metadata": {},
   "outputs": [],
   "source": [
    "from docplex.mp.model import Model\n",
    "from qiskit_optimization.translators import from_docplex_mp\n",
    "from qiskit_optimization.converters import QuadraticProgramToQubo"
   ]
  },
  {
   "cell_type": "code",
   "execution_count": 3,
   "metadata": {},
   "outputs": [],
   "source": [
    "S = [5, 7, 5, 2, 4, 2, 5, 1, 6]\n",
    "B = 10\n",
    "n = U = len(S)"
   ]
  },
  {
   "cell_type": "markdown",
   "metadata": {},
   "source": [
    "### The ILP formulation of the BPP\n"
   ]
  },
  {
   "cell_type": "markdown",
   "metadata": {},
   "source": [
    "#### Using docplex\n"
   ]
  },
  {
   "cell_type": "code",
   "execution_count": 4,
   "metadata": {},
   "outputs": [],
   "source": [
    "docplex_bp = Model(name=\"bin packing\")"
   ]
  },
  {
   "cell_type": "markdown",
   "metadata": {},
   "source": [
    "##### Define the decision variables\n"
   ]
  },
  {
   "cell_type": "code",
   "execution_count": 5,
   "metadata": {},
   "outputs": [],
   "source": [
    "# binary variables x[i,j] indicate whether item i is packed in bin j\n",
    "x = {\n",
    "    (i, j): docplex_bp.binary_var(name=\"x_{0}_{1}\".format(i, j))\n",
    "    for i in range(n)\n",
    "    for j in range(U)\n",
    "}\n",
    "\n",
    "# binary variables y[j] indicate whether bin j is used\n",
    "y = {j: docplex_bp.binary_var(name=\"y_{0}\".format(j)) for j in range(U)}"
   ]
  },
  {
   "cell_type": "markdown",
   "metadata": {},
   "source": [
    "##### Set up the constraints\n"
   ]
  },
  {
   "cell_type": "code",
   "execution_count": 6,
   "metadata": {},
   "outputs": [],
   "source": [
    "# each item must be in exactly one bin\n",
    "for i in range(n):\n",
    "    docplex_bp.add_constraint(docplex_bp.sum(x[i, j] for j in range(U)) == 1)\n",
    "\n",
    "# each bin must be used for items that fit\n",
    "for j in range(U):\n",
    "    docplex_bp.add_constraint(\n",
    "        docplex_bp.sum(S[i] * x[i, j] for i in range(n)) <= B * y[j]\n",
    "    )"
   ]
  },
  {
   "cell_type": "markdown",
   "metadata": {},
   "source": [
    "##### Express the objective\n"
   ]
  },
  {
   "cell_type": "code",
   "execution_count": 7,
   "metadata": {},
   "outputs": [],
   "source": [
    "# minimize the number of bins used\n",
    "docplex_bp.minimize(docplex_bp.sum(y[j] for j in range(U)))"
   ]
  },
  {
   "cell_type": "markdown",
   "metadata": {},
   "source": [
    "##### Solve with the model\n"
   ]
  },
  {
   "cell_type": "code",
   "execution_count": 8,
   "metadata": {},
   "outputs": [],
   "source": [
    "# result = docplex_bp.solve()\n",
    "# docplex_bp.print_solution()"
   ]
  },
  {
   "cell_type": "markdown",
   "metadata": {},
   "source": [
    "### Transform the ILP model into a QUBO\n"
   ]
  },
  {
   "cell_type": "code",
   "execution_count": 9,
   "metadata": {},
   "outputs": [],
   "source": [
    "qp = from_docplex_mp(docplex_bp)\n",
    "converter = QuadraticProgramToQubo()\n",
    "qubo = converter.convert(qp)"
   ]
  }
 ],
 "metadata": {
  "kernelspec": {
   "display_name": "Python 3",
   "language": "python",
   "name": "python3"
  },
  "language_info": {
   "codemirror_mode": {
    "name": "ipython",
    "version": 3
   },
   "file_extension": ".py",
   "mimetype": "text/x-python",
   "name": "python",
   "nbconvert_exporter": "python",
   "pygments_lexer": "ipython3",
   "version": "3.10.12"
  }
 },
 "nbformat": 4,
 "nbformat_minor": 2
}
