{
 "cells": [
  {
   "cell_type": "code",
   "execution_count": 1,
   "metadata": {},
   "outputs": [],
   "source": [
    "import numpy as np"
   ]
  },
  {
   "cell_type": "code",
   "execution_count": 2,
   "metadata": {},
   "outputs": [],
   "source": [
    "zero = np.array([[1], [0]])\n",
    "one = np.array([[0], [1]])\n",
    "\n",
    "I = np.array([[1, 0], [0, 1]])\n",
    "X = np.array([[0, 1], [1, 0]])\n",
    "Y = np.array([[0, -1j], [1j, 0]])\n",
    "Z = np.array([[1, 0], [0, -1]])\n",
    "H = 1 / np.sqrt(2) * np.array([[1, 1], [1, -1]])\n",
    "\n",
    "pauli = [I, X, Y, Z]"
   ]
  },
  {
   "cell_type": "code",
   "execution_count": 3,
   "metadata": {},
   "outputs": [
    {
     "data": {
      "text/plain": [
       "(2, 1)"
      ]
     },
     "execution_count": 3,
     "metadata": {},
     "output_type": "execute_result"
    }
   ],
   "source": [
    "zero.shape"
   ]
  },
  {
   "cell_type": "code",
   "execution_count": 4,
   "metadata": {},
   "outputs": [],
   "source": [
    "def commutator(A, B):\n",
    "    return A @ B - B @ A\n",
    "\n",
    "\n",
    "def anti_commutator(A, B):\n",
    "    return A @ B + B @ A\n",
    "\n",
    "\n",
    "def expectation(rho, observable):\n",
    "    return np.trace(rho @ observable)"
   ]
  },
  {
   "cell_type": "code",
   "execution_count": 5,
   "metadata": {},
   "outputs": [],
   "source": [
    "# for a single qubit system\n",
    "def pauli_decomposition(operator):\n",
    "    N = len(pauli)\n",
    "    a = np.zeros(shape=(N,), dtype=np.complex128)\n",
    "    for i in range(N):\n",
    "        a[i] = np.trace(operator @ pauli[i])\n",
    "    return a / 2\n",
    "\n",
    "\n",
    "# reconstruct the operator from the coefficients\n",
    "def pauli_reconstruction(a):\n",
    "    operator = np.zeros((2, 2)).astype(np.complex128)\n",
    "    for i in range(len(pauli)):\n",
    "        operator += a[i] * pauli[i]\n",
    "    return operator"
   ]
  },
  {
   "cell_type": "code",
   "execution_count": 6,
   "metadata": {},
   "outputs": [
    {
     "name": "stdout",
     "output_type": "stream",
     "text": [
      "[[6 3 7 4]\n",
      " [6 9 2 6]\n",
      " [7 4 3 7]\n",
      " [7 2 5 4]]\n",
      "(16, 1)\n",
      "[[6]\n",
      " [6]\n",
      " [7]\n",
      " [7]\n",
      " [3]\n",
      " [9]\n",
      " [4]\n",
      " [2]\n",
      " [7]\n",
      " [2]\n",
      " [3]\n",
      " [5]\n",
      " [4]\n",
      " [6]\n",
      " [7]\n",
      " [4]]\n",
      "[[6 3 7 4]\n",
      " [6 9 2 6]\n",
      " [7 4 3 7]\n",
      " [7 2 5 4]]\n"
     ]
    }
   ],
   "source": [
    "# column-wise\n",
    "def vectorize(operator):\n",
    "    return operator.flatten(order=\"F\").reshape(-1, 1)\n",
    "\n",
    "\n",
    "def devectorize(vector):\n",
    "    N = np.sqrt(vector.size).astype(int)\n",
    "    return vector.reshape(N, N, order=\"F\")\n",
    "\n",
    "\n",
    "np.random.seed(42)\n",
    "A = np.random.randint(0, 10, (4, 4))\n",
    "print(A)\n",
    "print(vectorize(A).shape)\n",
    "print(vectorize(A))\n",
    "print(devectorize(vectorize(A)))"
   ]
  },
  {
   "cell_type": "code",
   "execution_count": 7,
   "metadata": {},
   "outputs": [],
   "source": [
    "super_I = vectorize(I)\n",
    "super_X = vectorize(X)\n",
    "super_Y = vectorize(Y)\n",
    "super_Z = vectorize(Z)\n",
    "\n",
    "super_pauli = [super_I, super_X, super_Y, super_Z]"
   ]
  },
  {
   "cell_type": "code",
   "execution_count": 8,
   "metadata": {},
   "outputs": [],
   "source": [
    "def pauli_vector_decomposition(vector):\n",
    "    a = np.zeros((4, 1), dtype=np.complex128)\n",
    "    for i in range(4):\n",
    "        a[i] = super_pauli[i].conj().T @ vector\n",
    "    return a / 2\n",
    "\n",
    "\n",
    "def pauli_vector_reconstruction(a):\n",
    "    vector = np.zeros((4, 1)).astype(np.complex128)\n",
    "    for i in range(4):\n",
    "        vector += a[i] * super_pauli[i]\n",
    "    return vector"
   ]
  },
  {
   "cell_type": "code",
   "execution_count": 9,
   "metadata": {},
   "outputs": [
    {
     "name": "stdout",
     "output_type": "stream",
     "text": [
      "[[0.5+0.j]\n",
      " [0.5+0.j]\n",
      " [0. +0.j]\n",
      " [0. +0.j]]\n",
      "[[0.5+0.j]\n",
      " [0.5+0.j]\n",
      " [0.5+0.j]\n",
      " [0.5+0.j]]\n"
     ]
    }
   ],
   "source": [
    "rho = H @ zero @ zero.T @ H.conj().T\n",
    "super_rho = vectorize(rho)\n",
    "c = pauli_vector_decomposition(super_rho)\n",
    "print(c)\n",
    "rho_reconstructed = pauli_vector_reconstruction(c)\n",
    "print(rho_reconstructed)"
   ]
  },
  {
   "cell_type": "code",
   "execution_count": 10,
   "metadata": {},
   "outputs": [],
   "source": [
    "# kraus operators for rotation operators is the same as the rotation operator itself\n",
    "\n",
    "\n",
    "def x_rotation_operator(theta):\n",
    "    return np.cos(theta / 2) * I - 1j * np.sin(theta / 2) * X\n",
    "\n",
    "\n",
    "def y_rotation_operator(theta):\n",
    "    return np.cos(theta / 2) * I - 1j * np.sin(theta / 2) * Y\n",
    "\n",
    "\n",
    "def z_rotation_operator(theta):\n",
    "    return np.cos(theta / 2) * I - 1j * np.sin(theta / 2) * Z"
   ]
  },
  {
   "cell_type": "code",
   "execution_count": 11,
   "metadata": {},
   "outputs": [],
   "source": [
    "def unitary_channel(rho, U):\n",
    "    return U @ rho @ U.T.conj()\n",
    "\n",
    "\n",
    "def x_rotation_channel(rho, theta):\n",
    "    return x_rotation_operator(theta) @ rho @ x_rotation_operator(theta).T.conj()\n",
    "\n",
    "\n",
    "def y_rotation_channel(rho, theta):\n",
    "    return y_rotation_operator(theta) @ rho @ y_rotation_operator(theta).T.conj()\n",
    "\n",
    "\n",
    "def z_rotation_channel(rho, theta):\n",
    "    return z_rotation_operator(theta) @ rho @ z_rotation_operator(theta).T.conj()\n",
    "\n",
    "\n",
    "def bit_flip_channel(rho, p: int):\n",
    "    return (1 - p) * rho + p * X @ rho @ X\n",
    "\n",
    "\n",
    "def dephasing_channel(rho, p: int):\n",
    "    return (1 - p / 2) * rho + (p / 2) * Z @ rho @ Z\n",
    "\n",
    "\n",
    "# depolarizing channel is a special case of the pauli channel\n",
    "def depolarizing_channel(rho, p: int):\n",
    "    return (1 - (3 * p / 4)) * rho + (p / 4) * (X @ rho @ X + Y @ rho @ Y + Z @ rho @ Z)\n",
    "\n",
    "\n",
    "def pauli_channel(rho, p: list):\n",
    "    result = np.zeros(rho.shape, dtype=np.complex128)\n",
    "    N = len(p)\n",
    "    for i in range(N):\n",
    "        if p[i] == 0:\n",
    "            continue\n",
    "        result += p[i] * pauli[i] @ rho @ pauli[i].T.conj()\n",
    "    return result\n",
    "\n",
    "\n",
    "def dephasing_kraus(p):\n",
    "    E0 = np.sqrt(1 - p / 2) * I\n",
    "    E1 = np.sqrt(p / 2) * Z\n",
    "    return E0, E1\n",
    "\n",
    "\n",
    "def depolarizing_kraus(p):\n",
    "    E0 = np.sqrt(1 - 3 * p / 4) * I\n",
    "    E1 = np.sqrt(p / 4) * X\n",
    "    E2 = np.sqrt(p / 4) * Y\n",
    "    E3 = np.sqrt(p / 4) * Z\n",
    "    return E0, E1, E2, E3\n",
    "\n",
    "\n",
    "def pauli_kraus(p):\n",
    "    N = len(p)\n",
    "    E = [np.sqrt(1 - (sum(p[1:]))) * I]\n",
    "    for i in range(1, N):\n",
    "        E.append(np.sqrt(p[i]) * pauli[i])\n",
    "    return E[0], E[1], E[2], E[3]"
   ]
  },
  {
   "cell_type": "code",
   "execution_count": 12,
   "metadata": {},
   "outputs": [],
   "source": [
    "def pauli_fidelity1(sigma, p):\n",
    "    return np.trace(sigma.T.conj() @ pauli_channel(sigma, p)).real / len(sigma)\n",
    "\n",
    "\n",
    "def pauli_fidelity2(sigma, p):\n",
    "    N = len(p)\n",
    "    result = 0\n",
    "    for j in range(N):\n",
    "        if np.allclose(anti_commutator(pauli[j], sigma), np.zeros(sigma.shape)):\n",
    "            result -= p[j]\n",
    "        else:\n",
    "            result += p[j]\n",
    "    return result\n",
    "\n",
    "\n",
    "def W():\n",
    "    N = 4\n",
    "    w = np.zeros((N, N))\n",
    "    for i in range(N):\n",
    "        for j in range(N):\n",
    "            w[i, j] = (-1) ** np.allclose(\n",
    "                anti_commutator(pauli[i], pauli[j]), np.zeros(pauli[i].shape)\n",
    "            )\n",
    "    return w\n",
    "\n",
    "\n",
    "def fidelity(p):\n",
    "    return np.round(W().T @ p, 2)\n",
    "\n",
    "\n",
    "# pauli transfer matrix of pauli channel\n",
    "def pauli_transfer_matrix(p):\n",
    "    return np.diag(fidelity(p))"
   ]
  },
  {
   "cell_type": "code",
   "execution_count": 13,
   "metadata": {},
   "outputs": [
    {
     "name": "stdout",
     "output_type": "stream",
     "text": [
      "pauli fidelity: \n",
      "[1.   0.84 0.9  0.86]\n",
      "pauli transfer matrix: \n",
      "[[1.   0.   0.   0.  ]\n",
      " [0.   0.84 0.   0.  ]\n",
      " [0.   0.   0.9  0.  ]\n",
      " [0.   0.   0.   0.86]]\n"
     ]
    }
   ],
   "source": [
    "p = [0.9, 0.02, 0.05, 0.03]\n",
    "print(f\"pauli fidelity: \\n{fidelity(p)}\")\n",
    "print(f\"pauli transfer matrix: \\n{pauli_transfer_matrix(p)}\")"
   ]
  },
  {
   "cell_type": "markdown",
   "metadata": {},
   "source": [
    "### Chi Matrix (Process Matrix or X-Matrix)\n"
   ]
  },
  {
   "cell_type": "markdown",
   "metadata": {},
   "source": [
    "#### A representation of a quantum map using the Pauli basis"
   ]
  },
  {
   "cell_type": "code",
   "execution_count": 14,
   "metadata": {},
   "outputs": [],
   "source": [
    "def process_matrix(kraus_operators):\n",
    "    # expanding Kraus operators in terms of Pauli matrices\n",
    "    E = kraus_operators\n",
    "    coeff = np.zeros((len(E), 4)).astype(np.complex128)\n",
    "    for i in range(len(E)):\n",
    "        coeff[i] = pauli_decomposition(E[i])\n",
    "    R, C = coeff.shape\n",
    "    X = np.zeros((C, C)).astype(np.complex128)\n",
    "    for i in range(R):\n",
    "        for j in range(C):\n",
    "            for k in range(C):\n",
    "                X[j, k] += coeff[i, j] * coeff[i, k].conj()\n",
    "    return X"
   ]
  },
  {
   "cell_type": "code",
   "execution_count": 15,
   "metadata": {},
   "outputs": [],
   "source": [
    "def process_channel(rho, kraus_operators):\n",
    "    result = np.zeros(rho.shape, dtype=np.complex128)\n",
    "    X_matrix = process_matrix(kraus_operators)\n",
    "    for j in range(4):\n",
    "        for k in range(4):\n",
    "            xjk = X_matrix[j, k]\n",
    "            result += xjk * pauli[j] @ rho @ pauli[k].T.conj()\n",
    "    return result"
   ]
  },
  {
   "cell_type": "code",
   "execution_count": 16,
   "metadata": {},
   "outputs": [
    {
     "data": {
      "text/plain": [
       "array([[0.75+0.j, 0.  +0.j, 0.  +0.j, 0.  +0.j],\n",
       "       [0.  +0.j, 0.  +0.j, 0.  +0.j, 0.  +0.j],\n",
       "       [0.  +0.j, 0.  +0.j, 0.  +0.j, 0.  +0.j],\n",
       "       [0.  +0.j, 0.  +0.j, 0.  +0.j, 0.25+0.j]])"
      ]
     },
     "execution_count": 16,
     "metadata": {},
     "output_type": "execute_result"
    }
   ],
   "source": [
    "p = 0.5\n",
    "process_matrix(dephasing_kraus(p)).round(2)"
   ]
  },
  {
   "cell_type": "code",
   "execution_count": 17,
   "metadata": {},
   "outputs": [
    {
     "data": {
      "text/plain": [
       "array([[0.85+0.j  , 0.  +0.j  , 0.  +0.j  , 0.  +0.35j],\n",
       "       [0.  +0.j  , 0.  +0.j  , 0.  +0.j  , 0.  +0.j  ],\n",
       "       [0.  +0.j  , 0.  +0.j  , 0.  +0.j  , 0.  +0.j  ],\n",
       "       [0.  -0.35j, 0.  +0.j  , 0.  +0.j  , 0.15+0.j  ]])"
      ]
     },
     "execution_count": 17,
     "metadata": {},
     "output_type": "execute_result"
    }
   ],
   "source": [
    "process_matrix([z_rotation_operator(np.pi / 4)]).round(2)"
   ]
  },
  {
   "cell_type": "code",
   "execution_count": 18,
   "metadata": {},
   "outputs": [
    {
     "data": {
      "text/plain": [
       "array([[0.5 +0.j  , 0.35-0.35j],\n",
       "       [0.35+0.35j, 0.5 +0.j  ]])"
      ]
     },
     "execution_count": 18,
     "metadata": {},
     "output_type": "execute_result"
    }
   ],
   "source": [
    "# apply the process matrix to the density matrix\n",
    "rho = H @ zero @ zero.T @ H.conj().T\n",
    "process_channel(rho, [z_rotation_operator(np.pi / 4)]).round(2)"
   ]
  },
  {
   "cell_type": "markdown",
   "metadata": {},
   "source": [
    "### Choi Matrix"
   ]
  },
  {
   "cell_type": "code",
   "execution_count": 19,
   "metadata": {},
   "outputs": [],
   "source": [
    "def choi_matrix(kraus_operators):\n",
    "    E = kraus_operators\n",
    "    N = len(E)\n",
    "    result = np.zeros((4, 4)).astype(np.complex128)\n",
    "    for i in range(N):\n",
    "        super_operator = vectorize(E[i])\n",
    "        result += super_operator @ super_operator.T.conj()\n",
    "    return result / 2"
   ]
  },
  {
   "cell_type": "code",
   "execution_count": 20,
   "metadata": {},
   "outputs": [
    {
     "data": {
      "text/plain": [
       "array([[0.5 +0.j  , 0.  +0.j  , 0.  +0.j  , 0.35-0.35j],\n",
       "       [0.  +0.j  , 0.  +0.j  , 0.  +0.j  , 0.  +0.j  ],\n",
       "       [0.  +0.j  , 0.  +0.j  , 0.  +0.j  , 0.  +0.j  ],\n",
       "       [0.35+0.35j, 0.  +0.j  , 0.  +0.j  , 0.5 +0.j  ]])"
      ]
     },
     "execution_count": 20,
     "metadata": {},
     "output_type": "execute_result"
    }
   ],
   "source": [
    "choi_matrix([z_rotation_operator(np.pi / 4)]).round(2)"
   ]
  },
  {
   "cell_type": "code",
   "execution_count": 21,
   "metadata": {},
   "outputs": [
    {
     "data": {
      "text/plain": [
       "array([[ 0.46+0.j,  0.  +0.j,  0.  +0.j,  0.43+0.j],\n",
       "       [ 0.  +0.j,  0.03+0.j, -0.01+0.j,  0.  +0.j],\n",
       "       [ 0.  +0.j, -0.01+0.j,  0.03+0.j,  0.  +0.j],\n",
       "       [ 0.43+0.j,  0.  +0.j,  0.  +0.j,  0.46+0.j]])"
      ]
     },
     "execution_count": 21,
     "metadata": {},
     "output_type": "execute_result"
    }
   ],
   "source": [
    "choi_matrix(pauli_kraus([0.9, 0.02, 0.05, 0.03])).round(2)"
   ]
  },
  {
   "cell_type": "markdown",
   "metadata": {},
   "source": [
    "### Superoperators"
   ]
  },
  {
   "cell_type": "code",
   "execution_count": 22,
   "metadata": {},
   "outputs": [],
   "source": [
    "def superoperator(unitary):\n",
    "    N = len(unitary)\n",
    "    S = np.zeros((4, 4), dtype=np.complex128)\n",
    "    for i in range(N):\n",
    "        S += np.kron(unitary[i].conj(), unitary[i])\n",
    "    return S"
   ]
  },
  {
   "cell_type": "code",
   "execution_count": 23,
   "metadata": {},
   "outputs": [
    {
     "data": {
      "text/plain": [
       "array([[0.85+0.j  , 0.  -0.35j, 0.  +0.35j, 0.15+0.j  ],\n",
       "       [0.  -0.35j, 0.85+0.j  , 0.15+0.j  , 0.  +0.35j],\n",
       "       [0.  +0.35j, 0.15+0.j  , 0.85+0.j  , 0.  -0.35j],\n",
       "       [0.15+0.j  , 0.  +0.35j, 0.  -0.35j, 0.85+0.j  ]])"
      ]
     },
     "execution_count": 23,
     "metadata": {},
     "output_type": "execute_result"
    }
   ],
   "source": [
    "superoperator([x_rotation_operator(np.pi / 4)]).round(2)"
   ]
  },
  {
   "cell_type": "code",
   "execution_count": 24,
   "metadata": {},
   "outputs": [
    {
     "data": {
      "text/plain": [
       "array([[ 0.93,  0.  ,  0.  ,  0.07],\n",
       "       [ 0.  ,  0.87, -0.03,  0.  ],\n",
       "       [ 0.  , -0.03,  0.87,  0.  ],\n",
       "       [ 0.07,  0.  ,  0.  ,  0.93]])"
      ]
     },
     "execution_count": 24,
     "metadata": {},
     "output_type": "execute_result"
    }
   ],
   "source": [
    "superoperator(pauli_kraus([0.9, 0.02, 0.05, 0.03])).round(2).real"
   ]
  },
  {
   "cell_type": "markdown",
   "metadata": {},
   "source": [
    "### Pauli Transfer Matrix"
   ]
  },
  {
   "cell_type": "markdown",
   "metadata": {},
   "source": [
    "#### A representation of a quantum map using the Pauli basis\n"
   ]
  },
  {
   "cell_type": "code",
   "execution_count": 25,
   "metadata": {},
   "outputs": [],
   "source": [
    "# general pauli transfer matrix\n",
    "def transfer_matrix(p=None, channel=None, unitary=None):\n",
    "    M = np.zeros((4, 4)).astype(np.complex128)\n",
    "    for i in range(4):\n",
    "        for j in range(4):\n",
    "            if unitary is not None:\n",
    "                M[i, j] = np.trace(pauli[i] @ channel(pauli[j], unitary))\n",
    "            else:\n",
    "                M[i, j] = np.trace(pauli[i] @ channel(pauli[j], p))\n",
    "    return M / 2"
   ]
  },
  {
   "cell_type": "code",
   "execution_count": 26,
   "metadata": {},
   "outputs": [
    {
     "data": {
      "text/plain": [
       "array([[1. , 0. , 0. , 0. ],\n",
       "       [0. , 1. , 0. , 0. ],\n",
       "       [0. , 0. , 0.8, 0. ],\n",
       "       [0. , 0. , 0. , 0.8]])"
      ]
     },
     "execution_count": 26,
     "metadata": {},
     "output_type": "execute_result"
    }
   ],
   "source": [
    "p = 0.1\n",
    "transfer_matrix(p, bit_flip_channel).real"
   ]
  },
  {
   "cell_type": "code",
   "execution_count": 27,
   "metadata": {},
   "outputs": [
    {
     "data": {
      "text/plain": [
       "array([[1.  , 0.  , 0.  , 0.  ],\n",
       "       [0.  , 0.84, 0.  , 0.  ],\n",
       "       [0.  , 0.  , 0.9 , 0.  ],\n",
       "       [0.  , 0.  , 0.  , 0.86]])"
      ]
     },
     "execution_count": 27,
     "metadata": {},
     "output_type": "execute_result"
    }
   ],
   "source": [
    "p = [0.9, 0.02, 0.05, 0.03]\n",
    "transfer_matrix(p, pauli_channel).real"
   ]
  },
  {
   "cell_type": "code",
   "execution_count": 28,
   "metadata": {},
   "outputs": [
    {
     "data": {
      "text/plain": [
       "array([[ 1.,  0.,  0.,  0.],\n",
       "       [ 0.,  1.,  0.,  0.],\n",
       "       [ 0.,  0., -1.,  0.],\n",
       "       [ 0.,  0.,  0., -1.]])"
      ]
     },
     "execution_count": 28,
     "metadata": {},
     "output_type": "execute_result"
    }
   ],
   "source": [
    "transfer_matrix(channel=unitary_channel, unitary=X).real"
   ]
  },
  {
   "cell_type": "code",
   "execution_count": 29,
   "metadata": {},
   "outputs": [
    {
     "data": {
      "text/plain": [
       "array([[ 1.  ,  0.  ,  0.  ,  0.  ],\n",
       "       [ 0.  ,  1.  ,  0.  ,  0.  ],\n",
       "       [ 0.  ,  0.  ,  0.5 , -0.87],\n",
       "       [ 0.  ,  0.  ,  0.87,  0.5 ]])"
      ]
     },
     "execution_count": 29,
     "metadata": {},
     "output_type": "execute_result"
    }
   ],
   "source": [
    "theta = np.pi / 3\n",
    "transfer_matrix(theta, x_rotation_channel).real.round(2)"
   ]
  },
  {
   "cell_type": "markdown",
   "metadata": {},
   "source": [
    "#### Applying pauli transfer matrix of pauli channel instead of apply pauli channel directly"
   ]
  },
  {
   "cell_type": "code",
   "execution_count": 30,
   "metadata": {},
   "outputs": [
    {
     "name": "stdout",
     "output_type": "stream",
     "text": [
      "density matrix before applying the pauli channel: \n",
      "[[0.5 0.5]\n",
      " [0.5 0.5]]\n"
     ]
    }
   ],
   "source": [
    "state = H @ zero\n",
    "rho = state @ state.T.conj()\n",
    "p = [0.9, 0.02, 0.05, 0.03]\n",
    "print(f\"density matrix before applying the pauli channel: \\n{rho}\")"
   ]
  },
  {
   "cell_type": "code",
   "execution_count": 31,
   "metadata": {},
   "outputs": [
    {
     "name": "stdout",
     "output_type": "stream",
     "text": [
      "density matrix after applying the pauli channel: \n",
      "[[0.5 +0.j 0.42+0.j]\n",
      " [0.42+0.j 0.5 +0.j]]\n",
      "coefficients of the density matrix after applying the pauli channel: \n",
      "[0.5 +0.j 0.42+0.j 0.  +0.j 0.  +0.j]\n"
     ]
    }
   ],
   "source": [
    "rho_prime = pauli_channel(rho, p)\n",
    "print(f\"density matrix after applying the pauli channel: \\n{rho_prime}\")\n",
    "a_prime = pauli_decomposition(rho_prime)\n",
    "print(\n",
    "    f\"coefficients of the density matrix after applying the pauli channel: \\n{a_prime.T}\"\n",
    ")"
   ]
  },
  {
   "cell_type": "code",
   "execution_count": 32,
   "metadata": {},
   "outputs": [
    {
     "name": "stdout",
     "output_type": "stream",
     "text": [
      "pauli transfer matrix of pauli channel: \n",
      "[[1.   0.   0.   0.  ]\n",
      " [0.   0.84 0.   0.  ]\n",
      " [0.   0.   0.9  0.  ]\n",
      " [0.   0.   0.   0.86]]\n",
      "coefficients of the density matrix after applying the pauli transfer matrix of pauli channel: \n",
      "[0.5 +0.j 0.42+0.j 0.  +0.j 0.  +0.j]\n",
      "density matrix after apply the pauli transfer matrix of pauli channel: \n",
      "[[0.5 +0.j 0.42+0.j]\n",
      " [0.42+0.j 0.5 +0.j]]\n"
     ]
    }
   ],
   "source": [
    "a = pauli_decomposition(rho)\n",
    "PTM = pauli_transfer_matrix(p)\n",
    "print(f\"pauli transfer matrix of pauli channel: \\n{PTM.real}\")\n",
    "a_prime = PTM @ a\n",
    "print(\n",
    "    f\"coefficients of the density matrix after applying the pauli transfer matrix of pauli channel: \\n{a_prime.T}\"\n",
    ")\n",
    "rho_prime = pauli_reconstruction(a_prime)\n",
    "print(\n",
    "    f\"density matrix after apply the pauli transfer matrix of pauli channel: \\n{rho_prime}\"\n",
    ")"
   ]
  },
  {
   "cell_type": "markdown",
   "metadata": {},
   "source": [
    "#### Applying pauli transfer matrix of a certain channel on vectorized density matrix"
   ]
  },
  {
   "cell_type": "code",
   "execution_count": 33,
   "metadata": {},
   "outputs": [
    {
     "name": "stdout",
     "output_type": "stream",
     "text": [
      "density matrix before applying the y rotation channel: \n",
      "[[0.5 0.5]\n",
      " [0.5 0.5]]\n"
     ]
    }
   ],
   "source": [
    "state = H @ zero\n",
    "rho = state @ state.T.conj()\n",
    "U = y_rotation_operator(np.pi / 4)\n",
    "print(f\"density matrix before applying the y rotation channel: \\n{rho}\")"
   ]
  },
  {
   "cell_type": "code",
   "execution_count": 34,
   "metadata": {},
   "outputs": [
    {
     "data": {
      "text/plain": [
       "array([[0.14644661+0.j, 0.35355339+0.j],\n",
       "       [0.35355339+0.j, 0.85355339+0.j]])"
      ]
     },
     "execution_count": 34,
     "metadata": {},
     "output_type": "execute_result"
    }
   ],
   "source": [
    "unitary_channel(rho, U)"
   ]
  },
  {
   "cell_type": "code",
   "execution_count": 35,
   "metadata": {},
   "outputs": [
    {
     "name": "stdout",
     "output_type": "stream",
     "text": [
      "density matrix after applying the unitary channel: \n",
      "[[0.14644661+0.j 0.35355339+0.j]\n",
      " [0.35355339+0.j 0.85355339+0.j]]\n"
     ]
    }
   ],
   "source": [
    "super_rho = vectorize(rho)\n",
    "S = superoperator([U])\n",
    "super_rho_prime = S @ super_rho\n",
    "rho_prime = devectorize(super_rho_prime)\n",
    "print(f\"density matrix after applying the unitary channel: \\n{rho_prime}\")"
   ]
  },
  {
   "cell_type": "markdown",
   "metadata": {},
   "source": [
    "### Pauli Twirling"
   ]
  },
  {
   "cell_type": "code",
   "execution_count": 36,
   "metadata": {},
   "outputs": [],
   "source": [
    "def pauli_twirling(rho, p, channel: callable):\n",
    "    result = np.zeros(rho.shape, dtype=np.complex128)\n",
    "    for i in range(4):\n",
    "        result += pauli[i] @ channel(pauli[i] @ rho @ pauli[i], p) @ pauli[i].T.conj()\n",
    "    return result / 4"
   ]
  },
  {
   "cell_type": "code",
   "execution_count": 37,
   "metadata": {},
   "outputs": [
    {
     "name": "stdout",
     "output_type": "stream",
     "text": [
      "state before applying the pauli twirling: \n",
      "[[0.92387953+0.j        ]\n",
      " [0.        -0.38268343j]]\n",
      "density matrix before applying the pauli twirling: \n",
      "[[0.85+0.j   0.  +0.35j]\n",
      " [0.  -0.35j 0.15+0.j  ]]\n"
     ]
    }
   ],
   "source": [
    "state = x_rotation_operator(np.pi / 4) @ zero\n",
    "rho = state @ state.T.conj()\n",
    "print(f\"state before applying the pauli twirling: \\n{state}\")\n",
    "print(f\"density matrix before applying the pauli twirling: \\n{rho.round(2)}\")"
   ]
  },
  {
   "cell_type": "code",
   "execution_count": 38,
   "metadata": {},
   "outputs": [
    {
     "name": "stdout",
     "output_type": "stream",
     "text": [
      "expectation: (0.57+0j)\n"
     ]
    }
   ],
   "source": [
    "state = x_rotation_operator(np.pi / 4) @ zero\n",
    "rho = state @ state.T.conj()\n",
    "theta = np.pi / 5\n",
    "channel = x_rotation_channel\n",
    "print(f\"expectation: {expectation(pauli_twirling(rho, theta, channel), Z).round(2)}\")"
   ]
  },
  {
   "cell_type": "markdown",
   "metadata": {},
   "source": [
    "##### X rotation channel"
   ]
  },
  {
   "cell_type": "code",
   "execution_count": 39,
   "metadata": {},
   "outputs": [
    {
     "name": "stdout",
     "output_type": "stream",
     "text": [
      "initial density matrix: \n",
      "[[0.85+0.j   0.  +0.35j]\n",
      " [0.  -0.35j 0.15+0.j  ]]\n",
      "final density matrix: \n",
      "[[0.79+0.j   0.  +0.29j]\n",
      " [0.  -0.29j 0.21+0.j  ]]\n"
     ]
    }
   ],
   "source": [
    "state = x_rotation_operator(np.pi / 4) @ zero\n",
    "rho = state @ state.T.conj()\n",
    "print(f\"initial density matrix: \\n{rho.round(2)}\")\n",
    "result = np.zeros((2, 2), dtype=np.complex128)\n",
    "for i in range(4):\n",
    "    curr = unitary_channel(rho, pauli[i])\n",
    "    curr = unitary_channel(curr, x_rotation_operator(np.pi / 5))\n",
    "    curr = unitary_channel(curr, pauli[i])\n",
    "    result += curr / 4\n",
    "print(f\"final density matrix: \\n{result.round(2)}\")"
   ]
  },
  {
   "cell_type": "code",
   "execution_count": 40,
   "metadata": {},
   "outputs": [
    {
     "name": "stdout",
     "output_type": "stream",
     "text": [
      "initial density matrix: \n",
      "[[0.85+0.j   0.  +0.35j]\n",
      " [0.  -0.35j 0.15+0.j  ]]\n",
      "density matrix after applying the channel: \n",
      "[[0.58+0.j   0.  +0.49j]\n",
      " [0.  -0.49j 0.42+0.j  ]]\n",
      "density matrix after applying the pauli twirling: \n",
      "[[0.79+0.j   0.  +0.29j]\n",
      " [0.  -0.29j 0.21+0.j  ]]\n"
     ]
    }
   ],
   "source": [
    "state = x_rotation_operator(np.pi / 4) @ zero\n",
    "rho = state @ state.T.conj()\n",
    "print(f\"initial density matrix: \\n{rho.round(2)}\")\n",
    "c = np.pi / 5\n",
    "channel = x_rotation_channel\n",
    "\n",
    "# apply the x rotation channel\n",
    "print(f\"density matrix after applying the channel: \\n{channel(rho, c).round(2)}\")\n",
    "\n",
    "# apply the pauli twirling\n",
    "print(\n",
    "    f\"density matrix after applying the pauli twirling: \\n{pauli_twirling(rho, c, channel).round(2)}\"\n",
    ")"
   ]
  },
  {
   "cell_type": "markdown",
   "metadata": {},
   "source": [
    "#### Chi matrix of pauli twirling"
   ]
  },
  {
   "cell_type": "code",
   "execution_count": 41,
   "metadata": {},
   "outputs": [
    {
     "data": {
      "text/plain": [
       "array([[0.85+0.j, 0.  +0.j, 0.  +0.j, 0.  +0.j],\n",
       "       [0.  +0.j, 0.15+0.j, 0.  +0.j, 0.  +0.j],\n",
       "       [0.  +0.j, 0.  +0.j, 0.  +0.j, 0.  +0.j],\n",
       "       [0.  +0.j, 0.  +0.j, 0.  +0.j, 0.  +0.j]])"
      ]
     },
     "execution_count": 41,
     "metadata": {},
     "output_type": "execute_result"
    }
   ],
   "source": [
    "def twirling_chi(kraus_operators):\n",
    "    return np.diag(process_matrix(kraus_operators).diagonal())\n",
    "\n",
    "\n",
    "twirling_chi([x_rotation_operator(np.pi / 4)]).round(2)"
   ]
  },
  {
   "cell_type": "markdown",
   "metadata": {},
   "source": [
    "#### pauli transfer matrix of pauli twirling"
   ]
  },
  {
   "cell_type": "code",
   "execution_count": 42,
   "metadata": {},
   "outputs": [
    {
     "name": "stdout",
     "output_type": "stream",
     "text": [
      "A: [[6 3 7 4]\n",
      " [6 9 2 6]\n",
      " [7 4 3 7]\n",
      " [7 2 5 4]]\n",
      "I: [[6. 3. 7. 4.]\n",
      " [6. 9. 2. 6.]\n",
      " [7. 4. 3. 7.]\n",
      " [7. 2. 5. 4.]]\n",
      "X: [[ 6.  3. -7. -4.]\n",
      " [ 6.  9. -2. -6.]\n",
      " [-7. -4.  3.  7.]\n",
      " [-7. -2.  5.  4.]]\n",
      "Y: [[ 6. -3.  7. -4.]\n",
      " [-6.  9. -2.  6.]\n",
      " [ 7. -4.  3. -7.]\n",
      " [-7.  2. -5.  4.]]\n",
      "Z: [[ 6. -3. -7.  4.]\n",
      " [-6.  9.  2. -6.]\n",
      " [-7.  4.  3. -7.]\n",
      " [ 7. -2. -5.  4.]]\n",
      "result: \n",
      "[[6. 0. 0. 0.]\n",
      " [0. 9. 0. 0.]\n",
      " [0. 0. 3. 0.]\n",
      " [0. 0. 0. 4.]]\n"
     ]
    }
   ],
   "source": [
    "I_PTM = transfer_matrix(channel=unitary_channel, unitary=I).real\n",
    "X_PTM = transfer_matrix(channel=unitary_channel, unitary=X).real\n",
    "Y_PTM = transfer_matrix(channel=unitary_channel, unitary=Y).real\n",
    "Z_PTM = transfer_matrix(channel=unitary_channel, unitary=Z).real\n",
    "\n",
    "# generate a random matrix 4x4 with positive integer values\n",
    "np.random.seed(42)\n",
    "A = np.random.randint(0, 10, (4, 4))\n",
    "\n",
    "print(f\"A: {A}\")\n",
    "print(f\"I: {I_PTM @ A @ I_PTM}\")\n",
    "print(f\"X: {X_PTM @ A @ X_PTM}\")\n",
    "print(f\"Y: {Y_PTM @ A @ Y_PTM}\")\n",
    "print(f\"Z: {Z_PTM @ A @ Z_PTM}\")\n",
    "\n",
    "result = np.zeros((4, 4)).astype(np.complex128)\n",
    "for i in range(4):\n",
    "    result += (\n",
    "        transfer_matrix(channel=unitary_channel, unitary=pauli[i])\n",
    "        @ A\n",
    "        @ transfer_matrix(channel=unitary_channel, unitary=pauli[i])\n",
    "    )\n",
    "print(f\"result: \\n{result.real / 4}\")"
   ]
  },
  {
   "cell_type": "code",
   "execution_count": 43,
   "metadata": {},
   "outputs": [],
   "source": [
    "def test(constant, channel):\n",
    "    result = np.zeros((4, 4)).astype(np.complex128)\n",
    "    for i in range(4):\n",
    "        u = transfer_matrix(channel=unitary_channel, unitary=pauli[i])\n",
    "        result += u @ transfer_matrix(constant, channel) @ u.T.conj()\n",
    "    return result / 4"
   ]
  },
  {
   "cell_type": "code",
   "execution_count": 44,
   "metadata": {},
   "outputs": [
    {
     "data": {
      "text/plain": [
       "array([[1. , 0. , 0. , 0. ],\n",
       "       [0. , 1. , 0. , 0. ],\n",
       "       [0. , 0. , 0.5, 0. ],\n",
       "       [0. , 0. , 0. , 0.5]])"
      ]
     },
     "execution_count": 44,
     "metadata": {},
     "output_type": "execute_result"
    }
   ],
   "source": [
    "def twirling_PTM(constant, channel):\n",
    "    return np.diag(transfer_matrix(constant, channel).diagonal())\n",
    "\n",
    "\n",
    "# constant = 0.2\n",
    "# channel = bit_flip_channel\n",
    "constant = np.pi / 3\n",
    "channel = x_rotation_channel\n",
    "twirling_PTM(constant, channel).round(2).real"
   ]
  },
  {
   "cell_type": "code",
   "execution_count": 45,
   "metadata": {},
   "outputs": [
    {
     "name": "stdout",
     "output_type": "stream",
     "text": [
      "density matrix before applying the twirling PTM: \n",
      "[[0.85355339+0.j         0.        +0.35355339j]\n",
      " [0.        -0.35355339j 0.14644661+0.j        ]]\n",
      "density matrix after applying the pauli twirling: \n",
      "[[0.68+0.j   0.  +0.18j]\n",
      " [0.  -0.18j 0.32+0.j  ]]\n",
      "density matrix after applying the twirling PTM: \n",
      "[[0.68+0.j   0.  +0.18j]\n",
      " [0.  -0.18j 0.32+0.j  ]]\n"
     ]
    }
   ],
   "source": [
    "state = x_rotation_operator(np.pi / 4) @ zero\n",
    "rho = state @ state.T.conj()\n",
    "print(f\"density matrix before applying the twirling PTM: \\n{rho}\")\n",
    "channel = x_rotation_channel\n",
    "theta = np.pi / 3\n",
    "print(\n",
    "    f\"density matrix after applying the pauli twirling: \\n{pauli_twirling(rho, theta, channel).round(2)}\"\n",
    ")\n",
    "a = pauli_decomposition(rho)\n",
    "PTM = twirling_PTM(theta, channel)\n",
    "a_prime = PTM @ a\n",
    "rho_prime = pauli_reconstruction(a_prime).round(2)\n",
    "print(f\"density matrix after applying the twirling PTM: \\n{rho_prime}\")"
   ]
  }
 ],
 "metadata": {
  "kernelspec": {
   "display_name": "Python 3",
   "language": "python",
   "name": "python3"
  },
  "language_info": {
   "codemirror_mode": {
    "name": "ipython",
    "version": 3
   },
   "file_extension": ".py",
   "mimetype": "text/x-python",
   "name": "python",
   "nbconvert_exporter": "python",
   "pygments_lexer": "ipython3",
   "version": "3.10.12"
  }
 },
 "nbformat": 4,
 "nbformat_minor": 2
}
